{
 "cells": [
  {
   "cell_type": "markdown",
   "metadata": {},
   "source": [
    "# Fire up graphlab create"
   ]
  },
  {
   "cell_type": "code",
   "execution_count": 6,
   "metadata": {
    "collapsed": false
   },
   "outputs": [
    {
     "name": "stderr",
     "output_type": "stream",
     "text": [
      "A newer version of GraphLab Create (v1.6.1) is available! Your current version is v1.6.\n",
      "New features in 1.6:\n",
      "- Time Series data type\n",
      "- Model tuning in Canvas\n",
      "- Churn prediction toolkit\n",
      "- Product sentiment analysis toolkit\n",
      "- DBSCAN for clustering toolkit\n",
      "- Record linker for data matching toolkit\n",
      "- Frequent pattern mining toolkit\n",
      "- Support adaptive Predictive Services model serving through endpoint policies\n",
      "- Distributed Machine Learning in EC2\n",
      "- Interface between DataFrames and SFrames in scala\n",
      "\n",
      "Notable performance improvements:\n",
      "- Improve service latency for all supervised learning models\n",
      "- Improved performance of nearest neighbor toolkit by constructing a similarity graph directly\n",
      "- Fast approximation of nearest neighbors through locality-sensitive hashing\n",
      "- More efficient and faster access of data in S3\n",
      "- Improved performance of distributed graph analytics\n",
      "\n",
      "For detailed release notes please visit:\n",
      "https://dato.com/download/release-notes.html\n",
      "\n",
      "-\n",
      "You can use pip to upgrade the graphlab-create package. For more information see https://dato.com/products/create/upgrade.\n"
     ]
    }
   ],
   "source": [
    "import graphlab"
   ]
  },
  {
   "cell_type": "markdown",
   "metadata": {},
   "source": [
    "# Load some data"
   ]
  },
  {
   "cell_type": "code",
   "execution_count": 7,
   "metadata": {
    "collapsed": false
   },
   "outputs": [
    {
     "name": "stderr",
     "output_type": "stream",
     "text": [
      "[INFO] This non-commercial license of GraphLab Create is assigned to eugenelin89@gmail.comand will expire on September 23, 2016. For commercial licensing options, visit https://dato.com/buy/.\n",
      "\n",
      "[INFO] Start server at: ipc:///tmp/graphlab_server-1078 - Server binary: /Users/eugenelin89/.graphlab/anaconda/lib/python2.7/site-packages/graphlab/unity_server - Server log: /tmp/graphlab_server_1443625276.log\n",
      "[INFO] GraphLab Server Version: 1.6\n"
     ]
    }
   ],
   "source": [
    "sales = graphlab.SFrame('home_data.gl/')"
   ]
  },
  {
   "cell_type": "code",
   "execution_count": null,
   "metadata": {
    "collapsed": true
   },
   "outputs": [],
   "source": []
  }
 ],
 "metadata": {
  "kernelspec": {
   "display_name": "Python 2",
   "language": "python",
   "name": "python2"
  },
  "language_info": {
   "codemirror_mode": {
    "name": "ipython",
    "version": 2
   },
   "file_extension": ".py",
   "mimetype": "text/x-python",
   "name": "python",
   "nbconvert_exporter": "python",
   "pygments_lexer": "ipython2",
   "version": "2.7.10"
  }
 },
 "nbformat": 4,
 "nbformat_minor": 0
}
