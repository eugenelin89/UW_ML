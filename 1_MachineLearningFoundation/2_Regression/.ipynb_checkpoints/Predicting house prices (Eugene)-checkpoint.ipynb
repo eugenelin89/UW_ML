{
 "cells": [
  {
   "cell_type": "markdown",
   "metadata": {},
   "source": [
    "# Fire up graphlab create"
   ]
  },
  {
   "cell_type": "code",
   "execution_count": 1,
   "metadata": {
    "collapsed": false
   },
   "outputs": [
    {
     "name": "stderr",
     "output_type": "stream",
     "text": [
      "A newer version of GraphLab Create (v1.6.1) is available! Your current version is v1.6.\n",
      "New features in 1.6:\n",
      "- Time Series data type\n",
      "- Model tuning in Canvas\n",
      "- Churn prediction toolkit\n",
      "- Product sentiment analysis toolkit\n",
      "- DBSCAN for clustering toolkit\n",
      "- Record linker for data matching toolkit\n",
      "- Frequent pattern mining toolkit\n",
      "- Support adaptive Predictive Services model serving through endpoint policies\n",
      "- Distributed Machine Learning in EC2\n",
      "- Interface between DataFrames and SFrames in scala\n",
      "\n",
      "Notable performance improvements:\n",
      "- Improve service latency for all supervised learning models\n",
      "- Improved performance of nearest neighbor toolkit by constructing a similarity graph directly\n",
      "- Fast approximation of nearest neighbors through locality-sensitive hashing\n",
      "- More efficient and faster access of data in S3\n",
      "- Improved performance of distributed graph analytics\n",
      "\n",
      "For detailed release notes please visit:\n",
      "https://dato.com/download/release-notes.html\n",
      "\n",
      "-\n",
      "You can use pip to upgrade the graphlab-create package. For more information see https://dato.com/products/create/upgrade.\n"
     ]
    }
   ],
   "source": [
    "import graphlab"
   ]
  },
  {
   "cell_type": "markdown",
   "metadata": {},
   "source": [
    "# Load some data"
   ]
  },
  {
   "cell_type": "code",
   "execution_count": 2,
   "metadata": {
    "collapsed": false
   },
   "outputs": [
    {
     "ename": "NameError",
     "evalue": "name 'graphlab' is not defined",
     "output_type": "error",
     "traceback": [
      "\u001b[0;31m---------------------------------------------------------------------------\u001b[0m",
      "\u001b[0;31mNameError\u001b[0m                                 Traceback (most recent call last)",
      "\u001b[0;32m<ipython-input-2-e5b5a1ead746>\u001b[0m in \u001b[0;36m<module>\u001b[0;34m()\u001b[0m\n\u001b[0;32m----> 1\u001b[0;31m \u001b[0msales\u001b[0m \u001b[0;34m=\u001b[0m \u001b[0mgraphlab\u001b[0m\u001b[0;34m.\u001b[0m\u001b[0mSFrame\u001b[0m\u001b[0;34m(\u001b[0m\u001b[0;34m'home_data.gl'\u001b[0m\u001b[0;34m)\u001b[0m\u001b[0;34m\u001b[0m\u001b[0m\n\u001b[0m",
      "\u001b[0;31mNameError\u001b[0m: name 'graphlab' is not defined"
     ]
    }
   ],
   "source": [
    "sales = graphlab.SFrame('home_data.gl')"
   ]
  },
  {
   "cell_type": "code",
   "execution_count": null,
   "metadata": {
    "collapsed": true
   },
   "outputs": [],
   "source": []
  }
 ],
 "metadata": {
  "kernelspec": {
   "display_name": "Python 2",
   "language": "python",
   "name": "python2"
  },
  "language_info": {
   "codemirror_mode": {
    "name": "ipython",
    "version": 2
   },
   "file_extension": ".py",
   "mimetype": "text/x-python",
   "name": "python",
   "nbconvert_exporter": "python",
   "pygments_lexer": "ipython2",
   "version": "2.7.10"
  }
 },
 "nbformat": 4,
 "nbformat_minor": 0
}
